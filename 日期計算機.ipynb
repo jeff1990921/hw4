{
  "nbformat": 4,
  "nbformat_minor": 0,
  "metadata": {
    "colab": {
      "name": "日期計算機.ipynb",
      "provenance": [],
      "collapsed_sections": []
    },
    "kernelspec": {
      "name": "python3",
      "display_name": "Python 3"
    }
  },
  "cells": [
    {
      "cell_type": "markdown",
      "metadata": {
        "id": "o5qDMZ74qBSV",
        "colab_type": "text"
      },
      "source": [
        "輸入目標日期，計算已經過幾天或是還有幾天來臨"
      ]
    },
    {
      "cell_type": "code",
      "metadata": {
        "id": "brDUwW8Vp4bd",
        "colab_type": "code",
        "outputId": "5d31e782-4dfb-445e-ac7e-bbe51cc841a9",
        "colab": {
          "base_uri": "https://localhost:8080/",
          "height": 51
        }
      },
      "source": [
        "import datetime\n",
        "target = input('please enter target date (YYYY/MM/DD):').split('/')\n",
        "target = datetime.datetime(int(target[0]),int(target[1]),int(target[2])).date()\n",
        "now = datetime.datetime.now().date()\n",
        "if now > target:\n",
        "  print(f'{(now-target).days} days ago')\n",
        "else:\n",
        "  print(f'{(target-now).days} days to go')"
      ],
      "execution_count": 0,
      "outputs": [
        {
          "output_type": "stream",
          "text": [
            "please enter target date (YYYY/MM/DD):2020/7/13\n",
            "34 days to go\n"
          ],
          "name": "stdout"
        }
      ]
    }
  ]
}